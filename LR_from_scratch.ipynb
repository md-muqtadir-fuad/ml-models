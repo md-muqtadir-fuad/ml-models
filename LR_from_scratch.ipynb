{
  "nbformat": 4,
  "nbformat_minor": 0,
  "metadata": {
    "colab": {
      "provenance": [],
      "authorship_tag": "ABX9TyOA/EnBf9zz3cGabeo+n3iX",
      "include_colab_link": true
    },
    "kernelspec": {
      "name": "python3",
      "display_name": "Python 3"
    },
    "language_info": {
      "name": "python"
    }
  },
  "cells": [
    {
      "cell_type": "markdown",
      "metadata": {
        "id": "view-in-github",
        "colab_type": "text"
      },
      "source": [
        "<a href=\"https://colab.research.google.com/github/md-muqtadir-fuad/ml-models/blob/main/LR_from_scratch.ipynb\" target=\"_parent\"><img src=\"https://colab.research.google.com/assets/colab-badge.svg\" alt=\"Open In Colab\"/></a>"
      ]
    },
    {
      "cell_type": "markdown",
      "source": [
        "Importing Necessary Libraries"
      ],
      "metadata": {
        "id": "1cv6LJXh8soW"
      }
    },
    {
      "cell_type": "code",
      "source": [
        "import numpy as np\n",
        "import matplotlib.pyplot as plt"
      ],
      "metadata": {
        "id": "BkIwMmxQ8e2j"
      },
      "execution_count": 1,
      "outputs": []
    },
    {
      "cell_type": "markdown",
      "source": [
        "Synthetic Data Generation"
      ],
      "metadata": {
        "id": "CxnoV-Wv817m"
      }
    },
    {
      "cell_type": "code",
      "source": [
        "#Generate synthetic data\n",
        "np.random.seed(42)\n",
        "X = 5 + np.random.rand(100,1) # for biases: np.random.rand(100,1)\n",
        "y = 6 + 7*X + np.random.rand(100,1) # for biases: np.random.rand(100,1)"
      ],
      "metadata": {
        "id": "FJPq1whd8hir"
      },
      "execution_count": 2,
      "outputs": []
    },
    {
      "cell_type": "code",
      "source": [
        "X"
      ],
      "metadata": {
        "colab": {
          "base_uri": "https://localhost:8080/"
        },
        "id": "t-WzGRfE9q70",
        "outputId": "24112f77-8079-4d31-a846-3b0ecdb835bf"
      },
      "execution_count": 9,
      "outputs": [
        {
          "output_type": "execute_result",
          "data": {
            "text/plain": [
              "array([[5.37454012],\n",
              "       [5.95071431],\n",
              "       [5.73199394],\n",
              "       [5.59865848],\n",
              "       [5.15601864],\n",
              "       [5.15599452],\n",
              "       [5.05808361],\n",
              "       [5.86617615],\n",
              "       [5.60111501],\n",
              "       [5.70807258],\n",
              "       [5.02058449],\n",
              "       [5.96990985],\n",
              "       [5.83244264],\n",
              "       [5.21233911],\n",
              "       [5.18182497],\n",
              "       [5.18340451],\n",
              "       [5.30424224],\n",
              "       [5.52475643],\n",
              "       [5.43194502],\n",
              "       [5.29122914],\n",
              "       [5.61185289],\n",
              "       [5.13949386],\n",
              "       [5.29214465],\n",
              "       [5.36636184],\n",
              "       [5.45606998],\n",
              "       [5.78517596],\n",
              "       [5.19967378],\n",
              "       [5.51423444],\n",
              "       [5.59241457],\n",
              "       [5.04645041],\n",
              "       [5.60754485],\n",
              "       [5.17052412],\n",
              "       [5.06505159],\n",
              "       [5.94888554],\n",
              "       [5.96563203],\n",
              "       [5.80839735],\n",
              "       [5.30461377],\n",
              "       [5.09767211],\n",
              "       [5.68423303],\n",
              "       [5.44015249],\n",
              "       [5.12203823],\n",
              "       [5.49517691],\n",
              "       [5.03438852],\n",
              "       [5.9093204 ],\n",
              "       [5.25877998],\n",
              "       [5.66252228],\n",
              "       [5.31171108],\n",
              "       [5.52006802],\n",
              "       [5.54671028],\n",
              "       [5.18485446],\n",
              "       [5.96958463],\n",
              "       [5.77513282],\n",
              "       [5.93949894],\n",
              "       [5.89482735],\n",
              "       [5.59789998],\n",
              "       [5.92187424],\n",
              "       [5.0884925 ],\n",
              "       [5.19598286],\n",
              "       [5.04522729],\n",
              "       [5.32533033],\n",
              "       [5.38867729],\n",
              "       [5.27134903],\n",
              "       [5.82873751],\n",
              "       [5.35675333],\n",
              "       [5.28093451],\n",
              "       [5.54269608],\n",
              "       [5.14092422],\n",
              "       [5.80219698],\n",
              "       [5.07455064],\n",
              "       [5.98688694],\n",
              "       [5.77224477],\n",
              "       [5.19871568],\n",
              "       [5.00552212],\n",
              "       [5.81546143],\n",
              "       [5.70685734],\n",
              "       [5.72900717],\n",
              "       [5.77127035],\n",
              "       [5.07404465],\n",
              "       [5.35846573],\n",
              "       [5.11586906],\n",
              "       [5.86310343],\n",
              "       [5.62329813],\n",
              "       [5.33089802],\n",
              "       [5.06355835],\n",
              "       [5.31098232],\n",
              "       [5.32518332],\n",
              "       [5.72960618],\n",
              "       [5.63755747],\n",
              "       [5.88721274],\n",
              "       [5.47221493],\n",
              "       [5.11959425],\n",
              "       [5.71324479],\n",
              "       [5.76078505],\n",
              "       [5.5612772 ],\n",
              "       [5.77096718],\n",
              "       [5.4937956 ],\n",
              "       [5.52273283],\n",
              "       [5.42754102],\n",
              "       [5.02541913],\n",
              "       [5.10789143]])"
            ]
          },
          "metadata": {},
          "execution_count": 9
        }
      ]
    },
    {
      "cell_type": "code",
      "source": [
        "y"
      ],
      "metadata": {
        "colab": {
          "base_uri": "https://localhost:8080/"
        },
        "id": "tH-CC_no97oL",
        "outputId": "2319bd6f-6922-4962-a3d9-513576b9f4fb"
      },
      "execution_count": 10,
      "outputs": [
        {
          "output_type": "execute_result",
          "data": {
            "text/plain": [
              "array([[43.65321002],\n",
              "       [48.29141056],\n",
              "       [46.43831357],\n",
              "       [45.69918008],\n",
              "       [42.99969696],\n",
              "       [42.34125387],\n",
              "       [41.81696821],\n",
              "       [47.81878416],\n",
              "       [45.43660325],\n",
              "       [46.03348795],\n",
              "       [41.43384291],\n",
              "       [47.95059025],\n",
              "       [47.75679614],\n",
              "       [43.29449415],\n",
              "       [42.90617853],\n",
              "       [43.15529216],\n",
              "       [43.93336778],\n",
              "       [44.85986508],\n",
              "       [44.91617413],\n",
              "       [43.57794622],\n",
              "       [46.09041042],\n",
              "       [42.87254832],\n",
              "       [43.36301601],\n",
              "       [43.67458483],\n",
              "       [44.42042505],\n",
              "       [46.92333952],\n",
              "       [43.21573124],\n",
              "       [45.46037165],\n",
              "       [45.15385411],\n",
              "       [41.83590019],\n",
              "       [45.67022497],\n",
              "       [42.41577668],\n",
              "       [41.57522652],\n",
              "       [47.97981393],\n",
              "       [48.70233394],\n",
              "       [46.98198437],\n",
              "       [43.65108701],\n",
              "       [42.38672376],\n",
              "       [46.15326079],\n",
              "       [45.05284954],\n",
              "       [42.81671494],\n",
              "       [44.71802067],\n",
              "       [41.73796815],\n",
              "       [47.66612112],\n",
              "       [43.09630037],\n",
              "       [45.67454294],\n",
              "       [43.79154187],\n",
              "       [45.14315517],\n",
              "       [44.87845071],\n",
              "       [42.57262765],\n",
              "       [48.69535828],\n",
              "       [46.66549165],\n",
              "       [47.72138746],\n",
              "       [47.75324421],\n",
              "       [46.17095031],\n",
              "       [47.69517492],\n",
              "       [42.29158306],\n",
              "       [43.13349965],\n",
              "       [41.55422857],\n",
              "       [44.00552866],\n",
              "       [44.08852416],\n",
              "       [43.53174905],\n",
              "       [47.43469227],\n",
              "       [44.03304797],\n",
              "       [43.05683134],\n",
              "       [45.63417508],\n",
              "       [42.30724964],\n",
              "       [46.80189738],\n",
              "       [41.56262965],\n",
              "       [48.4991015 ],\n",
              "       [47.08327775],\n",
              "       [42.4075976 ],\n",
              "       [41.55074788],\n",
              "       [46.93472577],\n",
              "       [46.5931742 ],\n",
              "       [46.27741661],\n",
              "       [47.08983016],\n",
              "       [41.90504791],\n",
              "       [44.44599009],\n",
              "       [41.94860436],\n",
              "       [47.38279033],\n",
              "       [45.47656041],\n",
              "       [44.24097979],\n",
              "       [42.32224781],\n",
              "       [43.43481788],\n",
              "       [43.9362673 ],\n",
              "       [46.92446545],\n",
              "       [46.01810311],\n",
              "       [47.74013978],\n",
              "       [44.54735677],\n",
              "       [41.93026249],\n",
              "       [46.88992927],\n",
              "       [47.2259134 ],\n",
              "       [45.56204184],\n",
              "       [46.73580005],\n",
              "       [44.80577875],\n",
              "       [45.38508548],\n",
              "       [44.88989739],\n",
              "       [42.06502031],\n",
              "       [42.53511553]])"
            ]
          },
          "metadata": {},
          "execution_count": 10
        }
      ]
    },
    {
      "cell_type": "markdown",
      "source": [
        "Plotting of the generated data"
      ],
      "metadata": {
        "id": "cz-MVzeF8_0W"
      }
    },
    {
      "cell_type": "code",
      "source": [
        "#plotting\n",
        "plt.scatter(X,y)\n",
        "plt.xlabel(\"X\")\n",
        "plt.ylabel(\"y\")\n",
        "plt.show()"
      ],
      "metadata": {
        "colab": {
          "base_uri": "https://localhost:8080/",
          "height": 452
        },
        "id": "-0neGuTd8i8j",
        "outputId": "15eff4a9-7de7-4edd-b7f4-1dbe85e3e9ea"
      },
      "execution_count": 3,
      "outputs": [
        {
          "output_type": "display_data",
          "data": {
            "text/plain": [
              "<Figure size 640x480 with 1 Axes>"
            ],
            "image/png": "[encoded data removed]"
          },
          "metadata": {}
        }
      ]
    },
    {
      "cell_type": "markdown",
      "source": [
        "Creating Regressor Class"
      ],
      "metadata": {
        "id": "_PKjmYp39Fjs"
      }
    },
    {
      "cell_type": "code",
      "source": [
        "#Regressor Class\n",
        "class LinearRegressionGD:\n",
        "    def __init__(self, learning_rate = 0.01, iterations = 1000):\n",
        "        self.learning_rate = learning_rate\n",
        "        self.iterations = iterations\n",
        "        self.w = 0\n",
        "        self.b = 0\n",
        "        self.loss_history = []  # Store loss for visualization\n",
        "        self.w_store = []\n",
        "        self.b_store = []\n",
        "\n",
        "    def compute_loss(self, X, y):\n",
        "        n = len(y)\n",
        "        y_pred = self.predict(X)\n",
        "        return (1/n)*np.sum((y-y_pred)**2)\n",
        "\n",
        "    def fit(self, X, y):\n",
        "        n = len(y)\n",
        "        for _ in range(self.iterations):\n",
        "            y_pred = self.predict(X)\n",
        "            dw = (-2/n)*np.sum(X*(y-y_pred))\n",
        "            db = (-2/n)*np.sum((y-y_pred ))\n",
        "            self.w -= self.learning_rate*dw\n",
        "            self.b -= self.learning_rate*db\n",
        "            self.loss_history.append(self.compute_loss(X,y))\n",
        "            self.w_store.append(self.w)\n",
        "            self.b_store.append(self.b)\n",
        "            self.w_store\n",
        "            if _ % 100 == 0:\n",
        "                print(f\"Iteration {_}: Loss = {self.compute_loss(X, y)}\")\n",
        "\n",
        "    def predict(self, X):\n",
        "        return self.w*X + self.b"
      ],
      "metadata": {
        "id": "g5J4YlBB8mb0"
      },
      "execution_count": 4,
      "outputs": []
    },
    {
      "cell_type": "markdown",
      "source": [
        "Model fitting and Prediction"
      ],
      "metadata": {
        "id": "bgN9aeM19K3D"
      }
    },
    {
      "cell_type": "code",
      "source": [
        "model = LinearRegressionGD(learning_rate=0.001, iterations=5000)\n",
        "model.fit(X,y)\n",
        "\n",
        "y_pred = model.predict(X)"
      ],
      "metadata": {
        "colab": {
          "base_uri": "https://localhost:8080/"
        },
        "id": "0HRanBfE8oPb",
        "outputId": "a2c38a55-40f5-432c-cac5-15486f5eff4f"
      },
      "execution_count": 5,
      "outputs": [
        {
          "output_type": "stream",
          "name": "stdout",
          "text": [
            "Iteration 0: Loss = 1768.800611202399\n",
            "Iteration 100: Loss = 0.1698057743576173\n",
            "Iteration 200: Loss = 0.16485375628964505\n",
            "Iteration 300: Loss = 0.16476349100543305\n",
            "Iteration 400: Loss = 0.16467334103369952\n",
            "Iteration 500: Loss = 0.16458329289547133\n",
            "Iteration 600: Loss = 0.16449334647568192\n",
            "Iteration 700: Loss = 0.16440350165942832\n",
            "Iteration 800: Loss = 0.16431375833194076\n",
            "Iteration 900: Loss = 0.16422411637857606\n",
            "Iteration 1000: Loss = 0.16413457568482284\n",
            "Iteration 1100: Loss = 0.16404513613629784\n",
            "Iteration 1200: Loss = 0.16395579761874793\n",
            "Iteration 1300: Loss = 0.16386656001804725\n",
            "Iteration 1400: Loss = 0.16377742322020092\n",
            "Iteration 1500: Loss = 0.1636883871113421\n",
            "Iteration 1600: Loss = 0.1635994515777316\n",
            "Iteration 1700: Loss = 0.16351061650576046\n",
            "Iteration 1800: Loss = 0.16342188178194683\n",
            "Iteration 1900: Loss = 0.16333324729293708\n",
            "Iteration 2000: Loss = 0.16324471292550632\n",
            "Iteration 2100: Loss = 0.16315627856655682\n",
            "Iteration 2200: Loss = 0.1630679441031192\n",
            "Iteration 2300: Loss = 0.1629797094223512\n",
            "Iteration 2400: Loss = 0.16289157441153795\n",
            "Iteration 2500: Loss = 0.16280353895809277\n",
            "Iteration 2600: Loss = 0.1627156029495559\n",
            "Iteration 2700: Loss = 0.16262776627359343\n",
            "Iteration 2800: Loss = 0.16254002881799967\n",
            "Iteration 2900: Loss = 0.16245239047069512\n",
            "Iteration 3000: Loss = 0.1623648511197273\n",
            "Iteration 3100: Loss = 0.16227741065326903\n",
            "Iteration 3200: Loss = 0.16219006895962132\n",
            "Iteration 3300: Loss = 0.16210282592720973\n",
            "Iteration 3400: Loss = 0.16201568144458656\n",
            "Iteration 3500: Loss = 0.16192863540043034\n",
            "Iteration 3600: Loss = 0.16184168768354404\n",
            "Iteration 3700: Loss = 0.16175483818285785\n",
            "Iteration 3800: Loss = 0.16166808678742636\n",
            "Iteration 3900: Loss = 0.16158143338643002\n",
            "Iteration 4000: Loss = 0.16149487786917402\n",
            "Iteration 4100: Loss = 0.16140842012508888\n",
            "Iteration 4200: Loss = 0.1613220600437302\n",
            "Iteration 4300: Loss = 0.16123579751477748\n",
            "Iteration 4400: Loss = 0.16114963242803604\n",
            "Iteration 4500: Loss = 0.16106356467343538\n",
            "Iteration 4600: Loss = 0.16097759414102822\n",
            "Iteration 4700: Loss = 0.16089172072099264\n",
            "Iteration 4800: Loss = 0.16080594430363068\n",
            "Iteration 4900: Loss = 0.1607202647793675\n"
          ]
        }
      ]
    },
    {
      "cell_type": "markdown",
      "source": [
        "Actual data vs fitted data"
      ],
      "metadata": {
        "id": "vuGaxQn-9UIk"
      }
    },
    {
      "cell_type": "code",
      "source": [
        "#plot\n",
        "plt.scatter(X,y, label = \"Actual Data\")\n",
        "plt.plot(X,y_pred, label = \"Fitted line\",color = \"red\")\n",
        "plt.xlabel(\"X\")\n",
        "plt.ylabel(\"y\")\n",
        "plt.legend()\n",
        "plt.show()"
      ],
      "metadata": {
        "colab": {
          "base_uri": "https://localhost:8080/",
          "height": 449
        },
        "id": "ZBM3vvfx8bqG",
        "outputId": "5aae74f1-b475-44ab-a0a1-50fa2cb3bb51"
      },
      "execution_count": 6,
      "outputs": [
        {
          "output_type": "display_data",
          "data": {
            "text/plain": [
              "<Figure size 640x480 with 1 Axes>"
            ],
            "image/png": "[encoded data removed]"
          },
          "metadata": {}
        }
      ]
    }
  ]
}